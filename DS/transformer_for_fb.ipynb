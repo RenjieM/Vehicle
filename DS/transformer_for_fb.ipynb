{
  "cells": [
    {
      "cell_type": "code",
      "execution_count": 1,
      "metadata": {
        "id": "X8iPHGxulMHi"
      },
      "outputs": [],
      "source": [
        "import pandas as pd\n",
        "import numpy as np\n",
        "import json\n",
        "import os \n",
        "from spacy.tokens import DocBin\n",
        "from tqdm import tqdm\n",
        "import random"
      ]
    },
    {
      "cell_type": "code",
      "execution_count": 1,
      "metadata": {
        "id": "eP79U1f9vlDZ"
      },
      "outputs": [
        {
          "name": "stdout",
          "output_type": "stream",
          "text": [
            "Requirement already satisfied: pip in /opt/anaconda3/lib/python3.8/site-packages (22.1.2)\n",
            "Requirement already satisfied: setuptools in /opt/anaconda3/lib/python3.8/site-packages (63.1.0)\n",
            "Requirement already satisfied: wheel in /opt/anaconda3/lib/python3.8/site-packages (0.37.1)\n",
            "Requirement already satisfied: spacy[cuda112,lookups,transformers] in /opt/anaconda3/lib/python3.8/site-packages (3.4.0)\n",
            "Requirement already satisfied: typer<0.5.0,>=0.3.0 in /opt/anaconda3/lib/python3.8/site-packages (from spacy[cuda112,lookups,transformers]) (0.3.2)\n",
            "Requirement already satisfied: catalogue<2.1.0,>=2.0.6 in /opt/anaconda3/lib/python3.8/site-packages (from spacy[cuda112,lookups,transformers]) (2.0.7)\n",
            "Requirement already satisfied: murmurhash<1.1.0,>=0.28.0 in /opt/anaconda3/lib/python3.8/site-packages (from spacy[cuda112,lookups,transformers]) (1.0.7)\n",
            "Requirement already satisfied: setuptools in /opt/anaconda3/lib/python3.8/site-packages (from spacy[cuda112,lookups,transformers]) (63.1.0)\n",
            "Requirement already satisfied: spacy-legacy<3.1.0,>=3.0.9 in /opt/anaconda3/lib/python3.8/site-packages (from spacy[cuda112,lookups,transformers]) (3.0.9)\n",
            "Requirement already satisfied: wasabi<1.1.0,>=0.9.1 in /opt/anaconda3/lib/python3.8/site-packages (from spacy[cuda112,lookups,transformers]) (0.9.1)\n",
            "Requirement already satisfied: pydantic!=1.8,!=1.8.1,<1.10.0,>=1.7.4 in /opt/anaconda3/lib/python3.8/site-packages (from spacy[cuda112,lookups,transformers]) (1.7.4)\n",
            "Requirement already satisfied: pathy>=0.3.5 in /opt/anaconda3/lib/python3.8/site-packages (from spacy[cuda112,lookups,transformers]) (0.6.1)\n",
            "Requirement already satisfied: tqdm<5.0.0,>=4.38.0 in /opt/anaconda3/lib/python3.8/site-packages (from spacy[cuda112,lookups,transformers]) (4.50.2)\n",
            "Requirement already satisfied: requests<3.0.0,>=2.13.0 in /opt/anaconda3/lib/python3.8/site-packages (from spacy[cuda112,lookups,transformers]) (2.25.1)\n",
            "Requirement already satisfied: srsly<3.0.0,>=2.4.3 in /opt/anaconda3/lib/python3.8/site-packages (from spacy[cuda112,lookups,transformers]) (2.4.3)\n",
            "Requirement already satisfied: thinc<8.2.0,>=8.1.0 in /opt/anaconda3/lib/python3.8/site-packages (from spacy[cuda112,lookups,transformers]) (8.1.0)\n",
            "Requirement already satisfied: spacy-loggers<2.0.0,>=1.0.0 in /opt/anaconda3/lib/python3.8/site-packages (from spacy[cuda112,lookups,transformers]) (1.0.2)\n",
            "Requirement already satisfied: cymem<2.1.0,>=2.0.2 in /opt/anaconda3/lib/python3.8/site-packages (from spacy[cuda112,lookups,transformers]) (2.0.6)\n",
            "Requirement already satisfied: packaging>=20.0 in /opt/anaconda3/lib/python3.8/site-packages (from spacy[cuda112,lookups,transformers]) (21.3)\n",
            "Requirement already satisfied: jinja2 in /opt/anaconda3/lib/python3.8/site-packages (from spacy[cuda112,lookups,transformers]) (2.11.2)\n",
            "Requirement already satisfied: langcodes<4.0.0,>=3.2.0 in /opt/anaconda3/lib/python3.8/site-packages (from spacy[cuda112,lookups,transformers]) (3.3.0)\n",
            "Requirement already satisfied: numpy>=1.15.0 in /opt/anaconda3/lib/python3.8/site-packages (from spacy[cuda112,lookups,transformers]) (1.21.5)\n",
            "Requirement already satisfied: preshed<3.1.0,>=3.0.2 in /opt/anaconda3/lib/python3.8/site-packages (from spacy[cuda112,lookups,transformers]) (3.0.6)\n",
            "Requirement already satisfied: spacy-transformers<1.2.0,>=1.1.2 in /opt/anaconda3/lib/python3.8/site-packages (from spacy[cuda112,lookups,transformers]) (1.1.7)\n",
            "Requirement already satisfied: spacy-lookups-data<1.1.0,>=1.0.3 in /opt/anaconda3/lib/python3.8/site-packages (from spacy[cuda112,lookups,transformers]) (1.0.3)\n",
            "Collecting spacy[cuda112,lookups,transformers]\n",
            "  Using cached spacy-3.4.0-cp38-cp38-macosx_10_9_x86_64.whl (6.5 MB)\n",
            "  Using cached spacy-3.3.1-cp38-cp38-macosx_10_9_x86_64.whl (6.5 MB)\n",
            "Requirement already satisfied: blis<0.8.0,>=0.4.0 in /opt/anaconda3/lib/python3.8/site-packages (from spacy[cuda112,lookups,transformers]) (0.7.8)\n",
            "Collecting thinc<8.1.0,>=8.0.14\n",
            "  Using cached thinc-8.0.17-cp38-cp38-macosx_10_9_x86_64.whl (640 kB)\n",
            "Collecting spacy[cuda112,lookups,transformers]\n",
            "  Using cached spacy-3.3.0-cp38-cp38-macosx_10_9_x86_64.whl (6.4 MB)\n",
            "  Using cached spacy-3.2.4-cp38-cp38-macosx_10_9_x86_64.whl (6.2 MB)\n",
            "Requirement already satisfied: click<8.1.0 in /opt/anaconda3/lib/python3.8/site-packages (from spacy[cuda112,lookups,transformers]) (7.1.2)\n",
            "  Using cached spacy-3.2.3-cp38-cp38-macosx_10_9_x86_64.whl (6.2 MB)\n",
            "  Using cached spacy-3.2.2-cp38-cp38-macosx_10_9_x86_64.whl (6.2 MB)\n",
            "  Using cached spacy-3.2.1-cp38-cp38-macosx_10_9_x86_64.whl (6.2 MB)\n",
            "  Using cached spacy-3.2.0-cp38-cp38-macosx_10_9_x86_64.whl (6.2 MB)\n",
            "  Using cached spacy-3.1.6-cp38-cp38-macosx_10_9_x86_64.whl (6.1 MB)\n",
            "  Using cached spacy-3.1.5-cp38-cp38-macosx_10_9_x86_64.whl (6.1 MB)\n",
            "  Using cached spacy-3.1.4-cp38-cp38-macosx_10_9_x86_64.whl (6.1 MB)\n",
            "  Using cached spacy-3.1.3-cp38-cp38-macosx_10_9_x86_64.whl (6.0 MB)\n",
            "Collecting spacy-transformers<1.1.0,>=1.0.1\n",
            "  Using cached spacy_transformers-1.0.6-py2.py3-none-any.whl (42 kB)\n",
            "Collecting spacy[cuda112,lookups,transformers]\n",
            "  Using cached spacy-3.1.2-cp38-cp38-macosx_10_9_x86_64.whl (6.0 MB)\n",
            "  Using cached spacy-3.1.1-cp38-cp38-macosx_10_9_x86_64.whl (6.0 MB)\n",
            "  Using cached spacy-3.1.0-cp38-cp38-macosx_10_9_x86_64.whl (6.0 MB)\n",
            "  Using cached spacy-3.0.8-cp38-cp38-macosx_10_9_x86_64.whl (6.0 MB)\n",
            "  Using cached spacy-3.0.7-cp38-cp38-macosx_10_9_x86_64.whl (6.0 MB)\n",
            "  Using cached spacy-3.0.6-cp38-cp38-macosx_10_9_x86_64.whl (12.5 MB)\n",
            "  Using cached spacy-3.0.5-cp38-cp38-macosx_10_9_x86_64.whl (12.4 MB)\n",
            "\u001b[33mWARNING: spacy 3.0.5 does not provide the extra 'cuda112'\u001b[0m\u001b[33m\n",
            "\u001b[0mRequirement already satisfied: pyparsing!=3.0.5,>=2.0.2 in /opt/anaconda3/lib/python3.8/site-packages (from packaging>=20.0->spacy[cuda112,lookups,transformers]) (2.4.7)\n",
            "Requirement already satisfied: smart-open<6.0.0,>=5.0.0 in /opt/anaconda3/lib/python3.8/site-packages (from pathy>=0.3.5->spacy[cuda112,lookups,transformers]) (5.2.1)\n",
            "Requirement already satisfied: chardet<5,>=3.0.2 in /opt/anaconda3/lib/python3.8/site-packages (from requests<3.0.0,>=2.13.0->spacy[cuda112,lookups,transformers]) (3.0.4)\n",
            "Requirement already satisfied: certifi>=2017.4.17 in /opt/anaconda3/lib/python3.8/site-packages (from requests<3.0.0,>=2.13.0->spacy[cuda112,lookups,transformers]) (2021.10.8)\n",
            "Requirement already satisfied: urllib3<1.27,>=1.21.1 in /opt/anaconda3/lib/python3.8/site-packages (from requests<3.0.0,>=2.13.0->spacy[cuda112,lookups,transformers]) (1.26.9)\n",
            "Requirement already satisfied: idna<3,>=2.5 in /opt/anaconda3/lib/python3.8/site-packages (from requests<3.0.0,>=2.13.0->spacy[cuda112,lookups,transformers]) (2.10)\n",
            "Requirement already satisfied: torch>=1.5.0 in /opt/anaconda3/lib/python3.8/site-packages (from spacy-transformers<1.1.0,>=1.0.1->spacy[cuda112,lookups,transformers]) (1.12.0)\n",
            "Requirement already satisfied: spacy-alignments<1.0.0,>=0.7.2 in /opt/anaconda3/lib/python3.8/site-packages (from spacy-transformers<1.1.0,>=1.0.1->spacy[cuda112,lookups,transformers]) (0.8.5)\n",
            "Requirement already satisfied: transformers<4.10.0,>=3.4.0 in /opt/anaconda3/lib/python3.8/site-packages (from spacy-transformers<1.1.0,>=1.0.1->spacy[cuda112,lookups,transformers]) (4.9.2)\n",
            "Collecting spacy-transformers<1.1.0,>=1.0.1\n",
            "  Using cached spacy_transformers-1.0.5-py2.py3-none-any.whl (42 kB)\n",
            "  Using cached spacy_transformers-1.0.4-py2.py3-none-any.whl (40 kB)\n",
            "Requirement already satisfied: MarkupSafe>=0.23 in /opt/anaconda3/lib/python3.8/site-packages (from jinja2->spacy[cuda112,lookups,transformers]) (1.1.1)\n",
            "Requirement already satisfied: typing-extensions in /opt/anaconda3/lib/python3.8/site-packages (from torch>=1.5.0->spacy-transformers<1.1.0,>=1.0.1->spacy[cuda112,lookups,transformers]) (4.2.0)\n",
            "Requirement already satisfied: regex!=2019.12.17 in /opt/anaconda3/lib/python3.8/site-packages (from transformers<4.10.0,>=3.4.0->spacy-transformers<1.1.0,>=1.0.1->spacy[cuda112,lookups,transformers]) (2020.10.15)\n",
            "Requirement already satisfied: tokenizers<0.11,>=0.10.1 in /opt/anaconda3/lib/python3.8/site-packages (from transformers<4.10.0,>=3.4.0->spacy-transformers<1.1.0,>=1.0.1->spacy[cuda112,lookups,transformers]) (0.10.3)\n",
            "Requirement already satisfied: huggingface-hub==0.0.12 in /opt/anaconda3/lib/python3.8/site-packages (from transformers<4.10.0,>=3.4.0->spacy-transformers<1.1.0,>=1.0.1->spacy[cuda112,lookups,transformers]) (0.0.12)\n",
            "Requirement already satisfied: pyyaml>=5.1 in /opt/anaconda3/lib/python3.8/site-packages (from transformers<4.10.0,>=3.4.0->spacy-transformers<1.1.0,>=1.0.1->spacy[cuda112,lookups,transformers]) (5.3.1)\n",
            "Requirement already satisfied: filelock in /opt/anaconda3/lib/python3.8/site-packages (from transformers<4.10.0,>=3.4.0->spacy-transformers<1.1.0,>=1.0.1->spacy[cuda112,lookups,transformers]) (3.0.12)\n",
            "Requirement already satisfied: sacremoses in /opt/anaconda3/lib/python3.8/site-packages (from transformers<4.10.0,>=3.4.0->spacy-transformers<1.1.0,>=1.0.1->spacy[cuda112,lookups,transformers]) (0.0.53)\n",
            "Requirement already satisfied: joblib in /opt/anaconda3/lib/python3.8/site-packages (from sacremoses->transformers<4.10.0,>=3.4.0->spacy-transformers<1.1.0,>=1.0.1->spacy[cuda112,lookups,transformers]) (0.17.0)\n",
            "Requirement already satisfied: six in /opt/anaconda3/lib/python3.8/site-packages (from sacremoses->transformers<4.10.0,>=3.4.0->spacy-transformers<1.1.0,>=1.0.1->spacy[cuda112,lookups,transformers]) (1.15.0)\n",
            "Installing collected packages: thinc, spacy, spacy-transformers\n",
            "  Attempting uninstall: thinc\n",
            "    Found existing installation: thinc 8.1.0\n",
            "    Uninstalling thinc-8.1.0:\n",
            "      Successfully uninstalled thinc-8.1.0\n",
            "  Attempting uninstall: spacy\n",
            "    Found existing installation: spacy 3.4.0\n",
            "    Uninstalling spacy-3.4.0:\n",
            "      Successfully uninstalled spacy-3.4.0\n",
            "  Attempting uninstall: spacy-transformers\n",
            "    Found existing installation: spacy-transformers 1.1.7\n",
            "    Uninstalling spacy-transformers-1.1.7:\n",
            "      Successfully uninstalled spacy-transformers-1.1.7\n",
            "\u001b[31mERROR: pip's dependency resolver does not currently take into account all the packages that are installed. This behaviour is the source of the following dependency conflicts.\n",
            "fastai 2.5.6 requires torch<1.12,>=1.7.0, but you have torch 1.12.0 which is incompatible.\n",
            "en-core-web-sm 3.3.0 requires spacy<3.4.0,>=3.3.0.dev0, but you have spacy 3.0.5 which is incompatible.\u001b[0m\u001b[31m\n",
            "\u001b[0mSuccessfully installed spacy-3.0.5 spacy-transformers-1.0.4 thinc-8.0.17\n",
            "Collecting en-core-web-trf==3.0.0\n",
            "  Downloading https://github.com/explosion/spacy-models/releases/download/en_core_web_trf-3.0.0/en_core_web_trf-3.0.0-py3-none-any.whl (459.7 MB)\n",
            "\u001b[2K     \u001b[38;2;114;156;31m━━━━━━━━━━━━━━━━━━━━━━━━━━━━━━━━━━━━━\u001b[0m \u001b[32m459.7/459.7 MB\u001b[0m \u001b[31m764.3 kB/s\u001b[0m eta \u001b[36m0:00:00\u001b[0mm eta \u001b[36m0:00:01\u001b[0m[36m0:00:07\u001b[0m\n",
            "\u001b[?25hRequirement already satisfied: spacy<3.1.0,>=3.0.0 in /opt/anaconda3/lib/python3.8/site-packages (from en-core-web-trf==3.0.0) (3.0.5)\n",
            "Requirement already satisfied: spacy-transformers<1.1.0,>=1.0.0rc4 in /opt/anaconda3/lib/python3.8/site-packages (from en-core-web-trf==3.0.0) (1.0.4)\n",
            "Requirement already satisfied: thinc<8.1.0,>=8.0.2 in /opt/anaconda3/lib/python3.8/site-packages (from spacy<3.1.0,>=3.0.0->en-core-web-trf==3.0.0) (8.0.17)\n",
            "Requirement already satisfied: murmurhash<1.1.0,>=0.28.0 in /opt/anaconda3/lib/python3.8/site-packages (from spacy<3.1.0,>=3.0.0->en-core-web-trf==3.0.0) (1.0.7)\n",
            "Requirement already satisfied: blis<0.8.0,>=0.4.0 in /opt/anaconda3/lib/python3.8/site-packages (from spacy<3.1.0,>=3.0.0->en-core-web-trf==3.0.0) (0.7.8)\n",
            "Requirement already satisfied: packaging>=20.0 in /opt/anaconda3/lib/python3.8/site-packages (from spacy<3.1.0,>=3.0.0->en-core-web-trf==3.0.0) (21.3)\n",
            "Requirement already satisfied: srsly<3.0.0,>=2.4.0 in /opt/anaconda3/lib/python3.8/site-packages (from spacy<3.1.0,>=3.0.0->en-core-web-trf==3.0.0) (2.4.3)\n",
            "Requirement already satisfied: cymem<2.1.0,>=2.0.2 in /opt/anaconda3/lib/python3.8/site-packages (from spacy<3.1.0,>=3.0.0->en-core-web-trf==3.0.0) (2.0.6)\n",
            "Requirement already satisfied: wasabi<1.1.0,>=0.8.1 in /opt/anaconda3/lib/python3.8/site-packages (from spacy<3.1.0,>=3.0.0->en-core-web-trf==3.0.0) (0.9.1)\n",
            "Requirement already satisfied: tqdm<5.0.0,>=4.38.0 in /opt/anaconda3/lib/python3.8/site-packages (from spacy<3.1.0,>=3.0.0->en-core-web-trf==3.0.0) (4.50.2)\n",
            "Requirement already satisfied: preshed<3.1.0,>=3.0.2 in /opt/anaconda3/lib/python3.8/site-packages (from spacy<3.1.0,>=3.0.0->en-core-web-trf==3.0.0) (3.0.6)\n",
            "Requirement already satisfied: typer<0.4.0,>=0.3.0 in /opt/anaconda3/lib/python3.8/site-packages (from spacy<3.1.0,>=3.0.0->en-core-web-trf==3.0.0) (0.3.2)\n",
            "Requirement already satisfied: numpy>=1.15.0 in /opt/anaconda3/lib/python3.8/site-packages (from spacy<3.1.0,>=3.0.0->en-core-web-trf==3.0.0) (1.21.5)\n",
            "Requirement already satisfied: pydantic<1.8.0,>=1.7.1 in /opt/anaconda3/lib/python3.8/site-packages (from spacy<3.1.0,>=3.0.0->en-core-web-trf==3.0.0) (1.7.4)\n",
            "Requirement already satisfied: spacy-legacy<3.1.0,>=3.0.0 in /opt/anaconda3/lib/python3.8/site-packages (from spacy<3.1.0,>=3.0.0->en-core-web-trf==3.0.0) (3.0.9)\n",
            "Requirement already satisfied: requests<3.0.0,>=2.13.0 in /opt/anaconda3/lib/python3.8/site-packages (from spacy<3.1.0,>=3.0.0->en-core-web-trf==3.0.0) (2.25.1)\n",
            "Requirement already satisfied: catalogue<2.1.0,>=2.0.1 in /opt/anaconda3/lib/python3.8/site-packages (from spacy<3.1.0,>=3.0.0->en-core-web-trf==3.0.0) (2.0.7)\n",
            "Requirement already satisfied: setuptools in /opt/anaconda3/lib/python3.8/site-packages (from spacy<3.1.0,>=3.0.0->en-core-web-trf==3.0.0) (63.1.0)\n",
            "Requirement already satisfied: pathy>=0.3.5 in /opt/anaconda3/lib/python3.8/site-packages (from spacy<3.1.0,>=3.0.0->en-core-web-trf==3.0.0) (0.6.1)\n",
            "Requirement already satisfied: jinja2 in /opt/anaconda3/lib/python3.8/site-packages (from spacy<3.1.0,>=3.0.0->en-core-web-trf==3.0.0) (2.11.2)\n",
            "Requirement already satisfied: torch>=1.5.0 in /opt/anaconda3/lib/python3.8/site-packages (from spacy-transformers<1.1.0,>=1.0.0rc4->en-core-web-trf==3.0.0) (1.12.0)\n",
            "Requirement already satisfied: spacy-alignments<1.0.0,>=0.7.2 in /opt/anaconda3/lib/python3.8/site-packages (from spacy-transformers<1.1.0,>=1.0.0rc4->en-core-web-trf==3.0.0) (0.8.5)\n",
            "Requirement already satisfied: transformers<4.10.0,>=3.4.0 in /opt/anaconda3/lib/python3.8/site-packages (from spacy-transformers<1.1.0,>=1.0.0rc4->en-core-web-trf==3.0.0) (4.9.2)\n",
            "Requirement already satisfied: pyparsing!=3.0.5,>=2.0.2 in /opt/anaconda3/lib/python3.8/site-packages (from packaging>=20.0->spacy<3.1.0,>=3.0.0->en-core-web-trf==3.0.0) (2.4.7)\n",
            "Requirement already satisfied: smart-open<6.0.0,>=5.0.0 in /opt/anaconda3/lib/python3.8/site-packages (from pathy>=0.3.5->spacy<3.1.0,>=3.0.0->en-core-web-trf==3.0.0) (5.2.1)\n",
            "Requirement already satisfied: certifi>=2017.4.17 in /opt/anaconda3/lib/python3.8/site-packages (from requests<3.0.0,>=2.13.0->spacy<3.1.0,>=3.0.0->en-core-web-trf==3.0.0) (2021.10.8)\n",
            "Requirement already satisfied: chardet<5,>=3.0.2 in /opt/anaconda3/lib/python3.8/site-packages (from requests<3.0.0,>=2.13.0->spacy<3.1.0,>=3.0.0->en-core-web-trf==3.0.0) (3.0.4)\n",
            "Requirement already satisfied: urllib3<1.27,>=1.21.1 in /opt/anaconda3/lib/python3.8/site-packages (from requests<3.0.0,>=2.13.0->spacy<3.1.0,>=3.0.0->en-core-web-trf==3.0.0) (1.26.9)\n",
            "Requirement already satisfied: idna<3,>=2.5 in /opt/anaconda3/lib/python3.8/site-packages (from requests<3.0.0,>=2.13.0->spacy<3.1.0,>=3.0.0->en-core-web-trf==3.0.0) (2.10)\n",
            "Requirement already satisfied: typing-extensions in /opt/anaconda3/lib/python3.8/site-packages (from torch>=1.5.0->spacy-transformers<1.1.0,>=1.0.0rc4->en-core-web-trf==3.0.0) (4.2.0)\n",
            "Requirement already satisfied: sacremoses in /opt/anaconda3/lib/python3.8/site-packages (from transformers<4.10.0,>=3.4.0->spacy-transformers<1.1.0,>=1.0.0rc4->en-core-web-trf==3.0.0) (0.0.53)\n",
            "Requirement already satisfied: filelock in /opt/anaconda3/lib/python3.8/site-packages (from transformers<4.10.0,>=3.4.0->spacy-transformers<1.1.0,>=1.0.0rc4->en-core-web-trf==3.0.0) (3.0.12)\n",
            "Requirement already satisfied: pyyaml>=5.1 in /opt/anaconda3/lib/python3.8/site-packages (from transformers<4.10.0,>=3.4.0->spacy-transformers<1.1.0,>=1.0.0rc4->en-core-web-trf==3.0.0) (5.3.1)\n",
            "Requirement already satisfied: tokenizers<0.11,>=0.10.1 in /opt/anaconda3/lib/python3.8/site-packages (from transformers<4.10.0,>=3.4.0->spacy-transformers<1.1.0,>=1.0.0rc4->en-core-web-trf==3.0.0) (0.10.3)\n",
            "Requirement already satisfied: huggingface-hub==0.0.12 in /opt/anaconda3/lib/python3.8/site-packages (from transformers<4.10.0,>=3.4.0->spacy-transformers<1.1.0,>=1.0.0rc4->en-core-web-trf==3.0.0) (0.0.12)\n",
            "Requirement already satisfied: regex!=2019.12.17 in /opt/anaconda3/lib/python3.8/site-packages (from transformers<4.10.0,>=3.4.0->spacy-transformers<1.1.0,>=1.0.0rc4->en-core-web-trf==3.0.0) (2020.10.15)\n",
            "Requirement already satisfied: click<7.2.0,>=7.1.1 in /opt/anaconda3/lib/python3.8/site-packages (from typer<0.4.0,>=0.3.0->spacy<3.1.0,>=3.0.0->en-core-web-trf==3.0.0) (7.1.2)\n",
            "Requirement already satisfied: MarkupSafe>=0.23 in /opt/anaconda3/lib/python3.8/site-packages (from jinja2->spacy<3.1.0,>=3.0.0->en-core-web-trf==3.0.0) (1.1.1)\n",
            "Requirement already satisfied: six in /opt/anaconda3/lib/python3.8/site-packages (from sacremoses->transformers<4.10.0,>=3.4.0->spacy-transformers<1.1.0,>=1.0.0rc4->en-core-web-trf==3.0.0) (1.15.0)\n",
            "Requirement already satisfied: joblib in /opt/anaconda3/lib/python3.8/site-packages (from sacremoses->transformers<4.10.0,>=3.4.0->spacy-transformers<1.1.0,>=1.0.0rc4->en-core-web-trf==3.0.0) (0.17.0)\n",
            "\u001b[38;5;2m✔ Download and installation successful\u001b[0m\n",
            "You can now load the package via spacy.load('en_core_web_trf')\n"
          ]
        }
      ],
      "source": [
        "!pip install -U pip setuptools wheel\n",
        "!pip install -U 'spacy[cuda112,transformers,lookups]'\n",
        "!python -m spacy download en_core_web_trf"
      ]
    },
    {
      "cell_type": "code",
      "execution_count": null,
      "metadata": {
        "id": "KQYUnQhZqgKe"
      },
      "outputs": [],
      "source": [
        "!wget https://developer.download.nvidia.com/compute/cuda/11.2.0/local_installers/cuda-repo-debian10-11-2-local_11.2.0-460.27.04-1_amd64.deb\n",
        "!sudo dpkg -i cuda-repo-debian10-11-2-local_11.2.0-460.27.04-1_amd64.deb\n",
        "!sudo apt-key add /var/cuda-repo-debian10-11-2-local/7fa2af80.pub\n",
        "!sudo add-apt-repository contrib\n",
        "!sudo apt-get update\n",
        "!sudo apt-get -y install cuda-11.2"
      ]
    },
    {
      "cell_type": "code",
      "execution_count": 3,
      "metadata": {
        "id": "Sq9prfC23Vwk"
      },
      "outputs": [],
      "source": [
        "import spacy"
      ]
    },
    {
      "cell_type": "code",
      "execution_count": null,
      "metadata": {
        "id": "UpJmfSNb6c5l"
      },
      "outputs": [],
      "source": [
        "! nvcc --version"
      ]
    },
    {
      "cell_type": "code",
      "execution_count": 7,
      "metadata": {
        "id": "fEeEc91uu3ig"
      },
      "outputs": [],
      "source": [
        "with open('annotations.json') as f:\n",
        "  data = json.load(f)\n",
        "\n",
        "with open('annotations_val.json') as f:\n",
        "  data_val = json.load(f)\n",
        "\n",
        "train_data = data['annotations']\n",
        "val_data = data_val['annotations']"
      ]
    },
    {
      "cell_type": "code",
      "execution_count": 8,
      "metadata": {
        "id": "4FUrm5Jqu363"
      },
      "outputs": [],
      "source": [
        "def create_training(train_data):\n",
        "    nlp = spacy.blank(\"en\")\n",
        "    db = DocBin()\n",
        "    for text, annot in tqdm(train_data):\n",
        "        doc = nlp.make_doc(text)\n",
        "        ents = []\n",
        "        for start, end, label in annot[\"entities\"]:\n",
        "            span = doc.char_span(start, end, label=label,\n",
        "                                 alignment_mode=\"contract\")\n",
        "            if span is None:\n",
        "                print(\"Skipping entity\")\n",
        "            else:\n",
        "                ents.append(span)\n",
        "        doc.ents = ents\n",
        "        db.add(doc)\n",
        "    return (db)"
      ]
    },
    {
      "cell_type": "code",
      "execution_count": null,
      "metadata": {
        "id": "1KmaAzTngcyw"
      },
      "outputs": [],
      "source": [
        "train_data = create_training(train_data)\n",
        "train_data.to_disk(\"train.spacy\")\n",
        "val_data = create_training(val_data)\n",
        "val_data.to_disk(\"val.spacy\")"
      ]
    },
    {
      "cell_type": "code",
      "execution_count": null,
      "metadata": {
        "id": "MIRIDfLL9Rf2"
      },
      "outputs": [],
      "source": [
        "!nvidia-smi"
      ]
    },
    {
      "cell_type": "code",
      "execution_count": null,
      "metadata": {
        "id": "u4WpNee99Q1s"
      },
      "outputs": [],
      "source": [
        "!python -m spacy init fill-config base_config.cfg config.cfg"
      ]
    },
    {
      "cell_type": "code",
      "execution_count": null,
      "metadata": {
        "id": "KIUHgCH6DeMw"
      },
      "outputs": [],
      "source": [
        "!python -m spacy debug data config.cfg"
      ]
    },
    {
      "cell_type": "code",
      "execution_count": 13,
      "metadata": {
        "colab": {
          "base_uri": "https://localhost:8080/"
        },
        "id": "qNQx1KHYbFLH",
        "outputId": "f5a8df8e-8b54-4c1b-8616-b7d757aae91c"
      },
      "outputs": [
        {
          "name": "stdout",
          "output_type": "stream",
          "text": [
            "\u001b[38;5;2m✔ Created output directory: output\u001b[0m\n",
            "\u001b[38;5;4mℹ Saving to output directory: output\u001b[0m\n",
            "\u001b[38;5;4mℹ Using GPU: 0\u001b[0m\n",
            "\u001b[1m\n",
            "=========================== Initializing pipeline ===========================\u001b[0m\n",
            "[2022-07-10 19:58:12,422] [INFO] Set up nlp object from config\n",
            "[2022-07-10 19:58:12,431] [INFO] Pipeline: ['transformer', 'ner']\n",
            "[2022-07-10 19:58:12,435] [INFO] Created vocabulary\n",
            "[2022-07-10 19:58:12,436] [INFO] Finished initializing nlp object\n",
            "Some weights of the model checkpoint at roberta-base were not used when initializing RobertaModel: ['lm_head.decoder.weight', 'lm_head.layer_norm.bias', 'lm_head.layer_norm.weight', 'lm_head.bias', 'lm_head.dense.weight', 'lm_head.dense.bias']\n",
            "- This IS expected if you are initializing RobertaModel from the checkpoint of a model trained on another task or with another architecture (e.g. initializing a BertForSequenceClassification model from a BertForPreTraining model).\n",
            "- This IS NOT expected if you are initializing RobertaModel from the checkpoint of a model that you expect to be exactly identical (initializing a BertForSequenceClassification model from a BertForSequenceClassification model).\n",
            "[2022-07-10 19:58:35,608] [INFO] Initialized pipeline components: ['transformer', 'ner']\n",
            "\u001b[38;5;2m✔ Initialized pipeline\u001b[0m\n",
            "\u001b[1m\n",
            "============================= Training pipeline =============================\u001b[0m\n",
            "\u001b[38;5;4mℹ Pipeline: ['transformer', 'ner']\u001b[0m\n",
            "\u001b[38;5;4mℹ Initial learn rate: 0.0\u001b[0m\n",
            "E    #       LOSS TRANS...  LOSS NER  ENTS_F  ENTS_P  ENTS_R  SCORE \n",
            "---  ------  -------------  --------  ------  ------  ------  ------\n",
            "  0       0       10697.05    395.39    0.00    0.00    0.00    0.00\n",
            "  4     200     1928200.50  132408.19   79.90   84.53   75.74    0.80\n",
            "  9     400       28263.75  19032.02   83.40   83.29   83.50    0.83\n",
            " 13     600        9904.67  16088.76   84.66   83.31   86.06    0.85\n",
            " 17     800        5264.14  14123.26   80.71   75.80   86.30    0.81\n",
            " 22    1000        2994.28  12906.73   85.54   82.89   88.37    0.86\n",
            " 26    1200        2002.71  12336.77   82.36   78.77   86.30    0.82\n",
            " 31    1400        1226.34  11970.38   85.57   85.02   86.14    0.86\n",
            " 35    1600         908.76  11702.89   85.60   82.43   89.03    0.86\n",
            " 40    1800         677.75  11577.77   86.21   84.77   87.71    0.86\n",
            " 44    2000         599.39  11470.05   85.41   82.85   88.12    0.85\n",
            " 49    2200        1758.77  11406.79   84.67   82.64   86.80    0.85\n",
            " 53    2400        1313.23  11049.65   84.06   81.12   87.21    0.84\n",
            " 58    2600        1479.84  10910.46   84.89   82.54   87.38    0.85\n",
            " 62    2800         714.97  10783.08   84.79   82.56   87.13    0.85\n",
            " 67    3000         444.89  10634.27   85.05   83.53   86.63    0.85\n",
            " 71    3200         339.29  10312.28   85.16   83.28   87.13    0.85\n",
            " 76    3400       42930.10  10769.42   90.20   93.30   87.29    0.90\n",
            " 80    3600        2093.15   9866.44   89.40   91.53   87.38    0.89\n",
            " 84    3800        1014.98   9043.91   90.02   94.47   85.97    0.90\n",
            " 89    4000        1158.49   8298.96   89.97   92.81   87.29    0.90\n",
            " 93    4200         236.81   7397.20   89.11   89.11   89.11    0.89\n",
            " 98    4400        1704.77   6265.37   90.82   94.08   87.79    0.91\n",
            "103    4600        1517.00   5092.21   90.81   93.30   88.45    0.91\n",
            "107    4800         215.98   3931.42   90.07   92.29   87.95    0.90\n",
            "112    5000        1064.11   2880.51   89.99   92.58   87.54    0.90\n",
            "116    5200         228.33   1932.58   89.95   91.33   88.61    0.90\n",
            "121    5400         388.68   1217.22   88.52   88.93   88.12    0.89\n",
            "125    5600         322.39    716.43   89.95   91.69   88.28    0.90\n",
            "130    5800          71.10    376.85   90.13   93.45   87.05    0.90\n",
            "134    6000         523.58    253.58   88.83   90.43   87.29    0.89\n",
            "\u001b[38;5;2m✔ Saved pipeline to output directory\u001b[0m\n",
            "output/model-last\n"
          ]
        }
      ],
      "source": [
        "!python -m spacy train config.cfg --output output --gpu-id 0"
      ]
    },
    {
      "cell_type": "code",
      "execution_count": 7,
      "metadata": {
        "id": "SW6h2l3rPkR0"
      },
      "outputs": [],
      "source": [
        "import numpy as np\n",
        "import pandas as pd\n",
        "\n",
        "pd = pd.read_csv(\"facebook_train.csv\")"
      ]
    },
    {
      "cell_type": "code",
      "execution_count": 34,
      "metadata": {
        "colab": {
          "base_uri": "https://localhost:8080/",
          "height": 143
        },
        "id": "4WUrbKU7E3F9",
        "outputId": "13319cb7-16fa-417d-89d2-9e15535e0c20"
      },
      "outputs": [
        {
          "data": {
            "application/vnd.google.colaboratory.intrinsic+json": {
              "type": "string"
            },
            "text/plain": [
              "\" Driven 180000 miles Automatic transmission Exterior color: Silver · Interior color: Grey Fuel type: Gasoline 19.0 MPG city · 26.0 MPG highway · 22.0 MPG combined 2 owners This vehicle is paid off Seller's Description N3ED ABS SENSOR WHICH I HAVE 180K heated leather seats power everything run and drive good   Marlborough MA Location is approximate Marlborough MA Location is approximate Seller Information Seller details James Louis Joined Facebook in 2020\""
            ]
          },
          "execution_count": 34,
          "metadata": {},
          "output_type": "execute_result"
        }
      ],
      "source": [
        "texts = pd.loc[2, 'Description']\n",
        "texts"
      ]
    },
    {
      "cell_type": "markdown",
      "metadata": {
        "id": "Q5AO0lQHllyK"
      },
      "source": [
        "# New Section"
      ]
    },
    {
      "cell_type": "code",
      "execution_count": 35,
      "metadata": {
        "colab": {
          "base_uri": "https://localhost:8080/"
        },
        "id": "twBfDxLIQsGz",
        "outputId": "fe25265e-c5b7-4526-8206-82e7f5bbda2d"
      },
      "outputs": [
        {
          "name": "stdout",
          "output_type": "stream",
          "text": [
            "[('Silver', 'EX_COLOR'), ('Grey', 'IN_COLOR'), ('Gasoline', 'FUEL_TYPE'), ('19.0', 'CITY'), ('26.0', 'HIGHWAY'), ('22.0', 'COMBINED'), ('2', 'NUM_ONWER'), ('heated leather seats power everything run and drive good', 'CONDITION_GOOD')]\n"
          ]
        }
      ],
      "source": [
        "texts = ['Driven 180000 miles Automatic transmission Exterior color: Silver · Interior color: Grey Fuel type: Gasoline 19.0 MPG city · 26.0 MPG highway · 22.0 MPG combined 2 owners This vehicle is paid off Seller\\'s Description N3ED ABS SENSOR WHICH I HAVE 180K heated leather seats power everything run and drive good   Marlborough MA Location is approximate Marlborough MA Location is approximate Seller Information Seller details James Louis Joined Facebook in 2020']\n",
        "nlp = spacy.load('output/model-best')\n",
        "for doc in nlp.pipe(texts, disable=[\"tok2vec\", \"tagger\", \"parser\", \"attribute_ruler\", \"lemmatizer\"]):\n",
        "    # Do something with the doc here\n",
        "    print([(ent.text, ent.label_) for ent in doc.ents])"
      ]
    },
    {
      "cell_type": "code",
      "execution_count": null,
      "metadata": {
        "id": "fKBmEJ6M6CQ3"
      },
      "outputs": [],
      "source": [
        " !zip -r output.zip output/\n"
      ]
    }
  ],
  "metadata": {
    "accelerator": "GPU",
    "colab": {
      "collapsed_sections": [],
      "name": "transformer for fb.ipynb",
      "provenance": []
    },
    "gpuClass": "standard",
    "kernelspec": {
      "display_name": "Python 3.8.5 ('base')",
      "language": "python",
      "name": "python3"
    },
    "language_info": {
      "codemirror_mode": {
        "name": "ipython",
        "version": 3
      },
      "file_extension": ".py",
      "mimetype": "text/x-python",
      "name": "python",
      "nbconvert_exporter": "python",
      "pygments_lexer": "ipython3",
      "version": "3.8.5"
    },
    "vscode": {
      "interpreter": {
        "hash": "40d3a090f54c6569ab1632332b64b2c03c39dcf918b08424e98f38b5ae0af88f"
      }
    }
  },
  "nbformat": 4,
  "nbformat_minor": 0
}
